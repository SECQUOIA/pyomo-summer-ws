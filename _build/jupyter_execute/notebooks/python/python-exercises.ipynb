{
 "cells": [
  {
   "cell_type": "markdown",
   "metadata": {},
   "source": [
    "# Pyomo Summer Workshop 2018 Exercise Problem - Python"
   ]
  },
  {
   "cell_type": "markdown",
   "metadata": {},
   "source": [
    "This notebook contains material from the Pyomo Summer Workshop 2018 by the Pyomo Developement Team and the notebook is developed by David Bernal (dbernaln@purdue.edu), Zedong Peng (peng372@purdue.edu), and Albert Lee (lee4382@purdue.edu);  the content is available on **[Github](https://github.com/SECQUOIA/pyomo-summer-ws)**.\n",
    "The original sources of this material are available on **[Pyomo](http://www.pyomo.org/workshop-examples)**."
   ]
  },
  {
   "cell_type": "markdown",
   "metadata": {},
   "source": [
    "## 1. Lists\n",
    "Lists are mutable sequences, typically used to store collections of homogeneous items (where the precise degree of similarity will vary by application).\n",
    "Lists are enclosed by brackets (`[ ]`) and their elements and size can be changed.\n",
    "In this section, we will learn how to replace the elements of a list, and index a number specifying the position of an item in a sequence\n",
    "`s[i]` return the item at index `i`.\n",
    "The list is given as follows:\n",
    "\n",
    "```python\n",
    "a = [1, 2, 3, 4, 5]\n",
    "```\n",
    "\n",
    "\n",
    "\n",
    "```\n",
    "Inline Exercise 1.1: Replace the '1' in the list with the string 'foo'.\n",
    "```"
   ]
  },
  {
   "cell_type": "code",
   "execution_count": 1,
   "metadata": {},
   "outputs": [],
   "source": [
    "# TODO: INSERT CODE HERE TO REPLACE THE '1' IN a WITH THE STRING \"foo\""
   ]
  },
  {
   "cell_type": "code",
   "execution_count": 3,
   "metadata": {},
   "outputs": [
    {
     "name": "stdout",
     "output_type": "stream",
     "text": [
      "CHECK a is: ['foo', 2, 3, 4, 5]\n"
     ]
    }
   ],
   "source": [
    "# TODO: INSERT CODE HERE TO REPLACE THE '1' IN a WITH THE STRING \"foo\"\n",
    "a = [1, 2, 3, 4, 5]\n",
    "a[0] = \"foo\"\n",
    "print(\"CHECK a is:\", a) # check your work"
   ]
  },
  {
   "cell_type": "markdown",
   "metadata": {},
   "source": [
    "```\n",
    "Inline Exercise 1.2: Replace the `4` in the list `a` with the string `bar`.\n",
    "```"
   ]
  },
  {
   "cell_type": "code",
   "execution_count": 2,
   "metadata": {},
   "outputs": [],
   "source": [
    "# TODO: INSERT CODE HERE TO REPLACE THE '4' IN a WITH THE STRING \"bar\""
   ]
  },
  {
   "cell_type": "code",
   "execution_count": 4,
   "metadata": {},
   "outputs": [
    {
     "name": "stdout",
     "output_type": "stream",
     "text": [
      "CHECK a is: [1, 2, 3, 'bar', 5]\n"
     ]
    }
   ],
   "source": [
    "# TODO: INSERT CODE HERE TO REPLACE THE '4' IN a WITH THE STRING \"bar\"\n",
    "a = [1, 2, 3, 4, 5]\n",
    "a[3] = \"bar\"\n",
    "print(\"CHECK a is:\", a) # check your work"
   ]
  },
  {
   "cell_type": "markdown",
   "metadata": {},
   "source": [
    "In Python, all sequences, be they lists, strings, or tuples, support indexing, which allows for the direct access of individual items within the sequence. \n",
    "The numbering of these indices starts from zero (`0`); hence, the initial item in any sequence is found at the zeroth index. \n",
    "This implies that for a sequence of `n` elements, the last item would be positioned at an index of `n-1`.\n",
    "```\n",
    "Inline Exercise 1.3: Given the list `a`, guess what the output of `print(a[-1])` will print.\n",
    "```"
   ]
  },
  {
   "cell_type": "code",
   "execution_count": null,
   "metadata": {},
   "outputs": [],
   "source": [
    "# TODO: INSERT CODE HERE TO PRINT WHAT YOU THINK 'print(a[-1])' WILL PRINT"
   ]
  },
  {
   "cell_type": "code",
   "execution_count": 5,
   "metadata": {},
   "outputs": [
    {
     "name": "stdout",
     "output_type": "stream",
     "text": [
      "5\n",
      "CHECK a[-1] is: 5\n"
     ]
    }
   ],
   "source": [
    "# TODO: INSERT CODE HERE TO PRINT WHAT YOU THINK 'print(a[-1])' WILL PRINT\n",
    "print(5)\n",
    "print(\"CHECK a[-1] is:\", a[-1]) # check your work (don't just write this for your answer!)"
   ]
  },
  {
   "cell_type": "markdown",
   "metadata": {},
   "source": [
    "Another unique feature of sequence indexing in Python is the support for negative indices, which provide a means to count from the end of the sequence towards the beginning. \n",
    "Utilizing this approach, the last item of any given sequence can be accessed using an index of `-1`. \n",
    "Progressively, moving further towards the start of the sequence, the indices decrease, meaning the penultimate item would be at index `-2`, and so forth. \n",
    "Remarkably, the first item in a sequence can also be accessed using negative indexing by specifying the negative of the sequence's length, denoted as `-length`.\n",
    "\n",
    "```\n",
    "Inline Exercise 1.4: Given the list `a`, modify `a` so that the output is `[1, 2, \"hello\", \"world\", 4, 5]`.\n",
    "```"
   ]
  },
  {
   "cell_type": "code",
   "execution_count": 6,
   "metadata": {},
   "outputs": [],
   "source": [
    "# TODO: INSERT CODE HERE TO MODIFY a SO IT IS [1, 2, \"hello\", \"world\", 4, 5]"
   ]
  },
  {
   "cell_type": "code",
   "execution_count": 7,
   "metadata": {},
   "outputs": [
    {
     "name": "stdout",
     "output_type": "stream",
     "text": [
      "CHECK a is: [1, 2, 'hello', 'world', 4, 5]\n"
     ]
    }
   ],
   "source": [
    "# TODO: INSERT CODE HERE TO MODIFY a SO IT IS [1, 2, \"hello\", \"world\", 4, 5]\n",
    "a = [1, 2, 3, 4, 5]\n",
    "a[2:3] = [\"hello\", \"world\"]\n",
    "print(\"CHECK a is:\", a) # check your work"
   ]
  },
  {
   "cell_type": "markdown",
   "metadata": {},
   "source": [
    "In Python, slicing allows you to access a subset or a range of elements from a sequence-like object such as a list, string, or tuple. \n",
    "This can be accomplished by specifying two indices in the format `s[i:j]`, where `s` is the sequence. \n",
    "This expression denotes a slice starting at index `i` and ending just before index `j`.\n",
    "\n",
    "```\n",
    "Inline Exercise 1.5: After setting list `b`, what do you expect `print(a[2])` to output? \n",
    "```"
   ]
  },
  {
   "cell_type": "code",
   "execution_count": 9,
   "metadata": {},
   "outputs": [],
   "source": [
    "b = a\n",
    "b[2] = \"small\"\n",
    "# TODO: INSERT CODE HERE TO PRINT WHAT YOU THINK 'print(a[2])' WILL PRINT"
   ]
  },
  {
   "cell_type": "code",
   "execution_count": 8,
   "metadata": {},
   "outputs": [
    {
     "name": "stdout",
     "output_type": "stream",
     "text": [
      "small\n",
      "CHECK a[2] is: small\n"
     ]
    }
   ],
   "source": [
    "b = a\n",
    "b[2] = \"small\"\n",
    "# TODO: INSERT CODE HERE TO PRINT WHAT YOU THINK 'print(a[2])' WILL PRINT\n",
    "print(\"small\")\n",
    "\n",
    "print(\"CHECK a[2] is:\", a[2]) # check your work (don't just write this for your answer!)"
   ]
  },
  {
   "cell_type": "markdown",
   "metadata": {},
   "source": [
    "In Python, using the assignment operator as in `b = a` for lists doesn't create a new copy. \n",
    "Instead, `a` and `b` point to the same list in memory. \n",
    "Therefore, changes made using one variable (like `b[2] = \"small\"`) also appear when accessed through the other (`a`), demonstrating Python's handling of object references.\n",
    "\n",
    "List comprehensions provide a concise way to create lists. \n",
    "Common applications are to make new lists where each element is the result of some operations applied to each member of another sequence or iterable, or to create a subsequence of those elements that satisfy a certain condition.\n",
    "\n",
    "```\n",
    "Inline Exercise 1.6: `c` is given as a list comprehension. Find what you think `print(c[3])` will output.\n",
    "```\n",
    "\n",
    "```python\n",
    "c = [x for x in range(2, 10)] # this is a list comprehension!\n",
    "```"
   ]
  },
  {
   "cell_type": "code",
   "execution_count": null,
   "metadata": {},
   "outputs": [],
   "source": [
    "# TODO: INSERT CODE HERE TO PRINT WHAT YOU THINK 'print(c[3])' WILL PRINT"
   ]
  },
  {
   "cell_type": "code",
   "execution_count": 12,
   "metadata": {},
   "outputs": [
    {
     "name": "stdout",
     "output_type": "stream",
     "text": [
      "5\n",
      "CHECK c[3] is: 5\n"
     ]
    }
   ],
   "source": [
    "c = [x for x in range(2, 10)] # this is a list comprehension!\n",
    "# TODO: INSERT CODE HERE TO PRINT WHAT YOU THINK 'print(c[3])' WILL PRINT\n",
    "print(5)\n",
    "\n",
    "print(\"CHECK c[3] is:\", c[3]) # check your work (don't just write this for your answer!)"
   ]
  },
  {
   "cell_type": "markdown",
   "metadata": {},
   "source": [
    "A list comprehension consists of brackets containing an expression followed by a `for` clause, then zero or more `for` or `if` clauses. \n",
    "The result will be a new list resulting from evaluating the expression in the context of the `for` and `if` clauses which follow it. \n",
    "\n",
    "```\n",
    "Inline Exercise 1.7: Using the list comprehensions in Python, write code that transforms the given list `d = [6, 5, 4, 3, 2]` into `[7, 6, 5, 4, 3]`` by adding 1 to each element. \n",
    "```"
   ]
  },
  {
   "cell_type": "code",
   "execution_count": null,
   "metadata": {},
   "outputs": [],
   "source": [
    "# TODO: INSERT CODE HERE TO USE LIST COMPREHENSION TO CREATE THE FOLLOWING LIST:\n",
    "# [7, 6, 5, 4, 3]\n",
    "# USING THE LIST d GIVEN ABOVE. THEN PRINT IT."
   ]
  },
  {
   "cell_type": "code",
   "execution_count": 13,
   "metadata": {},
   "outputs": [
    {
     "name": "stdout",
     "output_type": "stream",
     "text": [
      "[7, 6, 5, 4, 3]\n"
     ]
    }
   ],
   "source": [
    "# TODO: INSERT CODE HERE TO USE LIST COMPREHENSION TO CREATE THE FOLLOWING LIST:\n",
    "# [7, 6, 5, 4, 3]\n",
    "# USING THE LIST d GIVEN ABOVE. THEN PRINT IT.\n",
    "d = [6, 5, 4, 3, 2]\n",
    "d = [x+1 for x in d]\n",
    "print(d)"
   ]
  },
  {
   "cell_type": "markdown",
   "metadata": {},
   "source": [
    "## 2. Dictionaries\n",
    "\n",
    "A dictionary in Python is a mutable and dynamic data structure that maps unique keys to corresponding values, akin to a table. \n",
    "Keys, which are immutable, can be integers, strings, floats, tuples, booleans, or the NoneType, but not mutable types like lists or dictionaries. \n",
    "Values, however, can be any Python object, mutable or immutable. This structure makes dictionaries a versatile tool in Python for storing and manipulating diverse data types in an intuitive key-value format.\n",
    "\n",
    "We will conduct some exercise problems with the following dictionary\n",
    "\n",
    "```python\n",
    "d = {\"tree\": \"wood\", \"flower\": \"petal\", \"earth\": \"water\", 101: [4, 6, 8]}\n",
    "```"
   ]
  },
  {
   "cell_type": "code",
   "execution_count": 15,
   "metadata": {},
   "outputs": [],
   "source": [
    "d = {\"tree\": \"wood\", \"flower\": \"petal\", \"earth\": \"water\", 101: [4, 6, 8]}"
   ]
  },
  {
   "cell_type": "markdown",
   "metadata": {},
   "source": [
    "In Python, dictionaries are mutable, which means we can change their content without changing their identity.\n",
    "\n",
    "```\n",
    "Inline Exercise 2.1: Given the dictionary `d`, change the value of the key `tree` into `leaves`.\n",
    "```"
   ]
  },
  {
   "cell_type": "code",
   "execution_count": null,
   "metadata": {},
   "outputs": [],
   "source": [
    "# TODO: INSERT CODE HERE TO REPLACE \"wood\" WITH \"leaves\""
   ]
  },
  {
   "cell_type": "code",
   "execution_count": 16,
   "metadata": {},
   "outputs": [],
   "source": [
    "# TODO: INSERT CODE HERE TO REPLACE \"wood\" WITH \"leaves\"\n",
    "d[\"tree\"] = \"leaves\""
   ]
  },
  {
   "cell_type": "markdown",
   "metadata": {},
   "source": [
    "In Python, dictionaries are not fixed in size. This means that new key-value pairs can be added to the dictionary at any time.\n",
    "\n",
    "```\n",
    "Inline Exercies 2.2: Given the dictionary `d`, add a new key-value pair `monty: python` to the dictionary.\n",
    "```"
   ]
  },
  {
   "cell_type": "code",
   "execution_count": null,
   "metadata": {},
   "outputs": [],
   "source": [
    "# TODO: INSERT CODE HERE TO ADD THE PAIR \"monty\": \"python\""
   ]
  },
  {
   "cell_type": "code",
   "execution_count": 17,
   "metadata": {},
   "outputs": [],
   "source": [
    "# TODO: INSERT CODE HERE TO ADD THE PAIR \"monty\": \"python\"\n",
    "d[\"monty\"] = \"python\""
   ]
  },
  {
   "cell_type": "markdown",
   "metadata": {},
   "source": [
    "`d[key]` returns the value for key in the dictionary. If key is not available, then a KeyError will be raised.\n",
    "\n",
    "```\n",
    "Inline Exercise 2.3: Given the dictionary `d`, what do you think `print(d[\"earth\"])` will output?\n",
    "```"
   ]
  },
  {
   "cell_type": "code",
   "execution_count": null,
   "metadata": {},
   "outputs": [],
   "source": [
    "# TODO: INSERT CODE HERE TO FIRST CHECK IF \"earth\" IS A KEY,\n",
    "# AND IF IT IS THEN PRINT THE VALUE IT MAPS TO"
   ]
  },
  {
   "cell_type": "code",
   "execution_count": 18,
   "metadata": {},
   "outputs": [
    {
     "name": "stdout",
     "output_type": "stream",
     "text": [
      "The value of 'earth' is: water\n"
     ]
    }
   ],
   "source": [
    "# TODO: INSERT CODE HERE TO FIRST CHECK IF \"earth\" IS A KEY,\n",
    "# AND IF IT IS THEN PRINT THE VALUE IT MAPS TO\n",
    "if \"earth\" in d:\n",
    "    print(\"The value of 'earth' is:\", d[\"earth\"])\n",
    "else:\n",
    "    print(\"'earth' is not found in the dictionary.\")"
   ]
  },
  {
   "cell_type": "markdown",
   "metadata": {},
   "source": [
    "```\n",
    "Inline Exercise 2.4: Print all the pairs in the dictionary `d`.\n",
    "```"
   ]
  },
  {
   "cell_type": "code",
   "execution_count": null,
   "metadata": {},
   "outputs": [],
   "source": [
    "# TODO: INSERT CODE HERE TO PRINT ALL THE PAIRS IN d"
   ]
  },
  {
   "cell_type": "code",
   "execution_count": 19,
   "metadata": {},
   "outputs": [
    {
     "name": "stdout",
     "output_type": "stream",
     "text": [
      "All key-value pairs:\n",
      "[('tree', 'leaves'), ('flower', 'petal'), ('earth', 'water'), (101, [4, 6, 8]), ('monty', 'python')]\n"
     ]
    }
   ],
   "source": [
    "# TODO: INSERT CODE HERE TO PRINT ALL THE PAIRS IN d\n",
    "print(\"All key-value pairs:\")\n",
    "print(list(d.items()))"
   ]
  },
  {
   "cell_type": "markdown",
   "metadata": {},
   "source": [
    "## 3. Functions\n",
    "\n",
    "A function in Python is a reusable block of code designed to perform a specific task. They play a pivotal role in structuring programs by enabling a divide-and-conquer approach, where a large task is broken down into several smaller, more manageable tasks. \n",
    "When a function is defined, its code isn't executed immediately. Instead, the function's code is run whenever the function is called. \n",
    "This call can come from various control structures within the program, including sequential code flow and within conditional (like `if` statements) or repetition structures (like `for` and `while` loops). \n",
    "By encapsulating specific tasks in functions, we can create more organized, readable, and efficient programs.\n",
    "There are several Exercise Problems for you to practice."
   ]
  },
  {
   "cell_type": "markdown",
   "metadata": {},
   "source": [
    "### Exercise 3.1\n",
    "Write a function that takes in a list of numbers and *prints* the value of the largest number. Be sure to test your function.\n",
    "Start with the following code:\n",
    "\n",
    "```python\n",
    "def print_max_value(nums):\n",
    "\n",
    "\t##TODO\n",
    "```"
   ]
  },
  {
   "cell_type": "code",
   "execution_count": 28,
   "metadata": {},
   "outputs": [
    {
     "name": "stdout",
     "output_type": "stream",
     "text": [
      "The max value is: \n",
      "5\n"
     ]
    }
   ],
   "source": [
    "def print_max_value(nums):\n",
    "    print(\"The max value is: \")\n",
    "    print(max(nums))\n",
    "\n",
    "test = [1, 2, 3, 4, 5]\n",
    "print_max_value(test)"
   ]
  },
  {
   "cell_type": "markdown",
   "metadata": {},
   "source": [
    "### Exercise 3.2\n",
    "Write a function that takes a list of numbers and *returns* the largest number.\n",
    "Start with the following code:\n",
    "\n",
    "```python\n",
    "def max_value(nums):\n",
    "\n",
    "\t##TODO\n",
    "```"
   ]
  },
  {
   "cell_type": "code",
   "execution_count": 29,
   "metadata": {},
   "outputs": [
    {
     "name": "stdout",
     "output_type": "stream",
     "text": [
      "5\n"
     ]
    }
   ],
   "source": [
    "def max_value(nums):\n",
    "\n",
    "\treturn max(nums)\n",
    "\n",
    "test = [1, 2, 3, 4, 5]\n",
    "print(max_value(test))"
   ]
  },
  {
   "cell_type": "markdown",
   "metadata": {},
   "source": [
    "### Exercise 3.3\n",
    "Do so without using any built-in functions.\n",
    "Start with the following code:\n",
    "\n",
    "```python\n",
    "def my_max_value(nums):\n",
    "\t\n",
    "\t##TODO\n",
    "```"
   ]
  },
  {
   "cell_type": "code",
   "execution_count": 30,
   "metadata": {},
   "outputs": [
    {
     "name": "stdout",
     "output_type": "stream",
     "text": [
      "5\n"
     ]
    }
   ],
   "source": [
    "def my_max_value(nums):\n",
    "\t\n",
    "\ttmp = nums[0]\n",
    "\tfor i in range(1, len(nums)):\n",
    "\t\tif nums[i] > tmp:\n",
    "\t\t\ttmp = nums[i]\n",
    "\n",
    "\treturn tmp\n",
    "\n",
    "test = [1, 2, 3, 4, 5]\n",
    "print(my_max_value(test))"
   ]
  },
  {
   "cell_type": "markdown",
   "metadata": {},
   "source": [
    "### Exercise 3.4\n",
    "Call both functions on a couple different lists of numbers to verify they return the same value.\n",
    "\n",
    "```python\n",
    "l1 = [1, 3, 0, 5, -2]\n",
    "ans1 = max_value(l1)\n",
    "print(ans1)\n",
    "ans2 = my_max_value(l1)\n",
    "print(ans2)\n",
    "\n",
    "l2 = [12, 0, 11.9]\n",
    "print(max_value(l2))\n",
    "print(my_max_value(l2))\n",
    "```\n",
    "\n",
    "The max value of l1 is 5, and the max value of l2 is 12. \n",
    "`max_value()` and `my_max_value()` returneed the same values for both lists."
   ]
  },
  {
   "cell_type": "code",
   "execution_count": 31,
   "metadata": {},
   "outputs": [
    {
     "name": "stdout",
     "output_type": "stream",
     "text": [
      "Max value using the built-in functions : 5\n",
      "Max value without using the built-in functions : 5\n",
      "Max value using the built-in functions : 12\n",
      "Max value without using the built-in functions : 12\n"
     ]
    }
   ],
   "source": [
    "l1 = [1, 3, 0, 5, -2]\n",
    "ans1 = max_value(l1)\n",
    "print('Max value using the built-in functions :', ans1)\n",
    "ans2 = my_max_value(l1)\n",
    "print('Max value without using the built-in functions :', ans2)\n",
    "\n",
    "l2 = [12, 0, 11.9]\n",
    "print('Max value using the built-in functions :', max_value(l2))\n",
    "print('Max value without using the built-in functions :', my_max_value(l2))"
   ]
  },
  {
   "cell_type": "markdown",
   "metadata": {},
   "source": [
    "### Exercise 3.5\n",
    "Write a function that takes a list of numbers and returns a dict consisting of the smallest and largest number (use keys 'smallest' and 'largest'). Be sure to test your function.\n",
    "Start with the following code:\n",
    "\n",
    "```python\n",
    "def max_and_min(nums):\n",
    "\t\n",
    "\t##TODO\n",
    "```"
   ]
  },
  {
   "cell_type": "code",
   "execution_count": 32,
   "metadata": {},
   "outputs": [
    {
     "name": "stdout",
     "output_type": "stream",
     "text": [
      "{'smallest': 1, 'largest': 5}\n"
     ]
    }
   ],
   "source": [
    "def max_and_min(nums):\n",
    "\t\n",
    "\treturn {'smallest': min(nums), 'largest': max(nums)}\n",
    "\n",
    "test = [1, 2, 3, 4, 5]\n",
    "print(max_and_min(test))"
   ]
  },
  {
   "cell_type": "markdown",
   "metadata": {},
   "source": [
    "### Exercise 3.6\n",
    "Write a function that takes in two lists and prints any common elements between them\n",
    "hint: check if an item is in a list using:\n",
    "if item in list\n",
    "    \n",
    "```python\n",
    "def get_common(l1, l2):\n",
    "\n",
    "\t##TODO\n",
    "```"
   ]
  },
  {
   "cell_type": "code",
   "execution_count": 33,
   "metadata": {},
   "outputs": [
    {
     "name": "stdout",
     "output_type": "stream",
     "text": [
      "0\n"
     ]
    }
   ],
   "source": [
    "def get_common(l1, l2):\n",
    "\n",
    "\tfor i in l1:\n",
    "\t\tif i in l2:\n",
    "\t\t\tprint(i)\n",
    "\t\t\t\n",
    "get_common(l1, l2)"
   ]
  },
  {
   "cell_type": "markdown",
   "metadata": {},
   "source": [
    "## 4. For Loops\n",
    "A for loop in Python is a control flow structure that allows for a fixed number of iterations, determined by the size of the iterable it traverses. \n",
    "An iterable, in this context, is any object capable of returning its elements one at a time, examples of which include strings, lists, and ranges, among others. \n",
    "With each iteration of the for loop, the variable (often referred to as the loop variable or item) is set to a different value from the iterable. \n",
    "This process continues until all values in the iterable have been assigned to the variable, marking the completion of the loop's iterations.\n",
    "There are several Exercise Problems for you to practice."
   ]
  },
  {
   "cell_type": "markdown",
   "metadata": {},
   "source": [
    "### Exercise 4.1\n",
    "\n",
    "```\n",
    "Inline Exercise 4.1: Write a for loop that prints the entries of the following list, one at a time:\n",
    "```"
   ]
  },
  {
   "cell_type": "code",
   "execution_count": 34,
   "metadata": {},
   "outputs": [],
   "source": [
    "words = [\"Wow,\", \"python\", \"is\", \"really\", \"cool.\"]\n",
    "\n",
    "##TODO"
   ]
  },
  {
   "cell_type": "code",
   "execution_count": 35,
   "metadata": {},
   "outputs": [
    {
     "name": "stdout",
     "output_type": "stream",
     "text": [
      "Wow,\n",
      "python\n",
      "is\n",
      "really\n",
      "cool.\n"
     ]
    }
   ],
   "source": [
    "words = [\"Wow,\", \"python\", \"is\", \"really\", \"cool.\"]\n",
    "\n",
    "##TODO\n",
    "for i in words:\n",
    "        print(i)"
   ]
  },
  {
   "cell_type": "markdown",
   "metadata": {},
   "source": [
    "### Exercise 4.2\n",
    "\n",
    "```\n",
    "Inline Exercise 4.2: Write a for loop that computes 2^n only using multiplication by 2.\n",
    "```"
   ]
  },
  {
   "cell_type": "code",
   "execution_count": null,
   "metadata": {},
   "outputs": [],
   "source": [
    "n = 5\n",
    "\n",
    "##TODO"
   ]
  },
  {
   "cell_type": "code",
   "execution_count": 27,
   "metadata": {},
   "outputs": [
    {
     "name": "stdout",
     "output_type": "stream",
     "text": [
      "32\n"
     ]
    }
   ],
   "source": [
    "n = 5\n",
    "\n",
    "##TODO\n",
    "val = 2\n",
    "for i in range(0,n-1):\n",
    "\tval = val*2\n",
    "\t\n",
    "print(val)"
   ]
  },
  {
   "cell_type": "markdown",
   "metadata": {},
   "source": [
    "### Exercise 4.3\n",
    "\n",
    "```\n",
    "Inline Exercise 4.3: Write a for loop that adds 1 to elements in a list and prints their squared value.\n",
    "```"
   ]
  },
  {
   "cell_type": "code",
   "execution_count": 25,
   "metadata": {},
   "outputs": [],
   "source": [
    "nums = [0, 3, -2, -1]\n",
    "\n",
    "##TODO"
   ]
  },
  {
   "cell_type": "code",
   "execution_count": 26,
   "metadata": {},
   "outputs": [
    {
     "name": "stdout",
     "output_type": "stream",
     "text": [
      "1\n",
      "16\n",
      "1\n",
      "0\n"
     ]
    }
   ],
   "source": [
    "nums = [0, 3, -2, -1]\n",
    "\n",
    "##TODO\n",
    "for i in nums:\n",
    "\tprint((i+1)**2)"
   ]
  },
  {
   "cell_type": "markdown",
   "metadata": {},
   "source": [
    "## 5. Pandas"
   ]
  },
  {
   "cell_type": "markdown",
   "metadata": {},
   "source": [
    "### Exercise 5.1\n",
    "Your colleague wants to build a classifier that will identify types of bears, but is having trouble importing data for her project. \n",
    "Lucikly, you know about pandas.\n",
    " No, not the fluffy black and white things, the python data manipulation package.\n",
    "\n",
    "The file bears-are-bears.csv contains a human-generated categorization of several bear specimens obtained by underpaying undergraduate students to collect data. \n",
    "Please import the file and display it to the console to verify that it matches your expectations."
   ]
  },
  {
   "cell_type": "code",
   "execution_count": 20,
   "metadata": {},
   "outputs": [],
   "source": [
    "import pandas as pd\n",
    "\n",
    "# df = pandas.read_csv(--CODE TO IMPORT HERE--)\n",
    "# print(df)"
   ]
  },
  {
   "cell_type": "code",
   "execution_count": 21,
   "metadata": {},
   "outputs": [
    {
     "name": "stdout",
     "output_type": "stream",
     "text": [
      "         Bear Type  Weight (kg)            Color  Endangered Bear Necessities  \\\n",
      "Tag #                                                                           \n",
      "1       Black bear          280            Black         You    Charmin Ultra   \n",
      "2       Brown bear          700            Brown          No              NaN   \n",
      "3       Polar bear           80            White         Yes              NaN   \n",
      "4      Andean bear          200            Black  Vulnerable              NaN   \n",
      "5       Panda bear          113  Black and white         NaN           Bamboo   \n",
      "6       Sloth bear          100            Black         Yes              NaN   \n",
      "7         Sun bear           50            Black         Yes              NaN   \n",
      "8       Panda bear          123  Black and white         Yes           Bamboo   \n",
      "9       Black bear          287            Brown          No              NaN   \n",
      "10      Black bear          276            Black          No              NaN   \n",
      "\n",
      "                 Speed        Eats  \n",
      "Tag #                               \n",
      "1                 Fast  Everything  \n",
      "2                  NaN      Salmon  \n",
      "3      Faster in water  Not enough  \n",
      "4                  NaN  bromeliads  \n",
      "5                  NaN      Bamboo  \n",
      "6                 Slow     Insects  \n",
      "7                  NaN     Insects  \n",
      "8                  NaN      Bamboo  \n",
      "9                 Fast  Everything  \n",
      "10                Fast  Everything  \n"
     ]
    }
   ],
   "source": [
    "df = pd.read_csv('bears-are-bears.csv', index_col=0)\n",
    "print(df)"
   ]
  },
  {
   "cell_type": "markdown",
   "metadata": {},
   "source": [
    "### Exercise 5.2\n",
    "Your colleague wants to have an alphabetically sorted unique list of all the bear types. \n",
    "Generate this from the pandas DataFrame."
   ]
  },
  {
   "cell_type": "code",
   "execution_count": null,
   "metadata": {},
   "outputs": [],
   "source": [
    "# sorted_bears = --CODE HERE TO CREATE UNIQUE SORTED LIST--\n",
    "# print(\"Sorted bears list:\")\n",
    "# print(sorted_bears)"
   ]
  },
  {
   "cell_type": "code",
   "execution_count": 22,
   "metadata": {},
   "outputs": [
    {
     "name": "stdout",
     "output_type": "stream",
     "text": [
      "Sorted bears list:\n",
      "['Andean bear', 'Black bear', 'Brown bear', 'Panda bear', 'Polar bear', 'Sloth bear', 'Sun bear']\n"
     ]
    }
   ],
   "source": [
    "sorted_bears = sorted(df['Bear Type'].unique().tolist())\n",
    "print(\"Sorted bears list:\")\n",
    "print(sorted_bears)"
   ]
  }
 ],
 "metadata": {
  "kernelspec": {
   "display_name": "pyomo",
   "language": "python",
   "name": "python3"
  },
  "language_info": {
   "codemirror_mode": {
    "name": "ipython",
    "version": 3
   },
   "file_extension": ".py",
   "mimetype": "text/x-python",
   "name": "python",
   "nbconvert_exporter": "python",
   "pygments_lexer": "ipython3",
   "version": "3.11.3"
  }
 },
 "nbformat": 4,
 "nbformat_minor": 2
}