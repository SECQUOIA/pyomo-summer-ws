{
 "cells": [
  {
   "cell_type": "markdown",
   "metadata": {},
   "source": [
    "## Exercise Problem - Functions\n",
    "### Part a)\n",
    "Write a function that takes in a list of numbers and *prints* the value of the largest number. Be sure to test your function.\n",
    "Start with the following code:\n",
    "\n",
    "```python\n",
    "def print_max_value(nums):\n",
    "\n",
    "\t##TODO\n",
    "```"
   ]
  },
  {
   "cell_type": "code",
   "execution_count": 2,
   "metadata": {},
   "outputs": [
    {
     "name": "stdout",
     "output_type": "stream",
     "text": [
      "The max value is: \n",
      "5\n"
     ]
    }
   ],
   "source": [
    "def print_max_value(nums):\n",
    "    print(\"The max value is: \")\n",
    "    print(max(nums))\n",
    "\n",
    "test = [1, 2, 3, 4, 5]\n",
    "print_max_value(test)"
   ]
  },
  {
   "cell_type": "markdown",
   "metadata": {},
   "source": [
    "### Part b)\n",
    "Write a function that takes a list of numbers and *returns* the largest number.\n",
    "Start with the following code:\n",
    "\n",
    "```python\n",
    "def max_value(nums):\n",
    "\n",
    "\t##TODO\n",
    "```\n"
   ]
  },
  {
   "cell_type": "code",
   "execution_count": 3,
   "metadata": {},
   "outputs": [
    {
     "name": "stdout",
     "output_type": "stream",
     "text": [
      "5\n"
     ]
    }
   ],
   "source": [
    "def max_value(nums):\n",
    "\n",
    "\treturn max(nums)\n",
    "\n",
    "test = [1, 2, 3, 4, 5]\n",
    "print(max_value(test))"
   ]
  },
  {
   "cell_type": "markdown",
   "metadata": {},
   "source": [
    "### Part c)\n",
    "Do so without using any built-in functions.\n",
    "Start with the following code:\n",
    "\n",
    "```python\n",
    "def my_max_value(nums):\n",
    "\t\n",
    "\t##TODO\n",
    "```"
   ]
  },
  {
   "cell_type": "code",
   "execution_count": 4,
   "metadata": {},
   "outputs": [
    {
     "name": "stdout",
     "output_type": "stream",
     "text": [
      "5\n"
     ]
    }
   ],
   "source": [
    "def my_max_value(nums):\n",
    "\t\n",
    "\ttmp = nums[0]\n",
    "\tfor i in range(1, len(nums)):\n",
    "\t\tif nums[i] > tmp:\n",
    "\t\t\ttmp = nums[i]\n",
    "\n",
    "\treturn tmp\n",
    "\n",
    "test = [1, 2, 3, 4, 5]\n",
    "print(my_max_value(test))"
   ]
  },
  {
   "cell_type": "markdown",
   "metadata": {},
   "source": [
    "### Part d)\n",
    "Call both functions on a couple different lists of numbers to verify they return the same value.\n",
    "\n",
    "```python\n",
    "l1 = [1, 3, 0, 5, -2]\n",
    "ans1 = max_value(l1)\n",
    "print(ans1)\n",
    "ans2 = my_max_value(l1)\n",
    "print(ans2)\n",
    "\n",
    "l2 = [12, 0, 11.9]\n",
    "print(max_value(l2))\n",
    "print(my_max_value(l2))\n",
    "```"
   ]
  },
  {
   "cell_type": "code",
   "execution_count": 5,
   "metadata": {},
   "outputs": [
    {
     "name": "stdout",
     "output_type": "stream",
     "text": [
      "Max value using the built-in functions : 5\n",
      "Max value without using the built-in functions : 5\n",
      "Max value using the built-in functions : 12\n",
      "Max value without using the built-in functions : 12\n"
     ]
    }
   ],
   "source": [
    "l1 = [1, 3, 0, 5, -2]\n",
    "ans1 = max_value(l1)\n",
    "print('Max value using the built-in functions :', ans1)\n",
    "ans2 = my_max_value(l1)\n",
    "print('Max value without using the built-in functions :', ans2)\n",
    "\n",
    "l2 = [12, 0, 11.9]\n",
    "print('Max value using the built-in functions :', max_value(l2))\n",
    "print('Max value without using the built-in functions :', my_max_value(l2))"
   ]
  },
  {
   "cell_type": "markdown",
   "metadata": {},
   "source": [
    "The max value of l1 is 5, and the max value of l2 is 12. \n",
    "`max_value()` and `my_max_value()` returneed the same values for both lists."
   ]
  },
  {
   "cell_type": "markdown",
   "metadata": {},
   "source": [
    "### Part e)\n",
    "Write a function that takes a list of numbers and returns a dict consisting of the smallest and largest number (use keys 'smallest' and 'largest'). Be sure to test your function.\n",
    "Start with the following code:\n",
    "\n",
    "```python\n",
    "def max_and_min(nums):\n",
    "\t\n",
    "\t##TODO\n",
    "```"
   ]
  },
  {
   "cell_type": "code",
   "execution_count": 6,
   "metadata": {},
   "outputs": [
    {
     "name": "stdout",
     "output_type": "stream",
     "text": [
      "{'smallest': 1, 'largest': 5}\n"
     ]
    }
   ],
   "source": [
    "def max_and_min(nums):\n",
    "\t\n",
    "\treturn {'smallest': min(nums), 'largest': max(nums)}\n",
    "\n",
    "test = [1, 2, 3, 4, 5]\n",
    "print(max_and_min(test))"
   ]
  },
  {
   "cell_type": "markdown",
   "metadata": {},
   "source": [
    "### Part f)\n",
    "Write a function that takes in two lists and prints any common elements between them\n",
    "hint: check if an item is in a list using:\n",
    "if item in list\n",
    "    \n",
    "```python\n",
    "def get_common(l1, l2):\n",
    "\n",
    "\t##TODO\n",
    "```"
   ]
  },
  {
   "cell_type": "code",
   "execution_count": 7,
   "metadata": {},
   "outputs": [
    {
     "name": "stdout",
     "output_type": "stream",
     "text": [
      "0\n"
     ]
    }
   ],
   "source": [
    "def get_common(l1, l2):\n",
    "\n",
    "\tfor i in l1:\n",
    "\t\tif i in l2:\n",
    "\t\t\tprint(i)\n",
    "\t\t\t\n",
    "get_common(l1, l2)"
   ]
  }
 ],
 "metadata": {
  "kernelspec": {
   "display_name": "pyomo",
   "language": "python",
   "name": "python3"
  },
  "language_info": {
   "codemirror_mode": {
    "name": "ipython",
    "version": 3
   },
   "file_extension": ".py",
   "mimetype": "text/x-python",
   "name": "python",
   "nbconvert_exporter": "python",
   "pygments_lexer": "ipython3",
   "version": "3.11.3"
  }
 },
 "nbformat": 4,
 "nbformat_minor": 2
}