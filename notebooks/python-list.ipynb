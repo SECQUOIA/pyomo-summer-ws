{
 "cells": [
  {
   "cell_type": "markdown",
   "metadata": {},
   "source": [
    "## Exercise Problem - list\n",
    "Given the list,\n",
    "```python\n",
    "a = [1, 2, 3, 4, 5].\n",
    "```"
   ]
  },
  {
   "cell_type": "code",
   "execution_count": 1,
   "metadata": {},
   "outputs": [],
   "source": [
    "a = [1, 2, 3, 4, 5]"
   ]
  },
  {
   "cell_type": "markdown",
   "metadata": {},
   "source": [
    "### Part a)\n",
    "\n",
    "Insert code here to replace the '1' in a with the string \"foo\".\n",
    "After inserting the code, use print to check your work.\n",
    "\n",
    "```python\n",
    "print(\"a is:\", a) # check your work\n",
    "```"
   ]
  },
  {
   "cell_type": "code",
   "execution_count": 3,
   "metadata": {},
   "outputs": [
    {
     "name": "stdout",
     "output_type": "stream",
     "text": [
      "CHECK a is: ['foo', 2, 3, 4, 5]\n"
     ]
    }
   ],
   "source": [
    "a[0] = \"foo\"\n",
    "print(\"CHECK a is:\", a) # check your work"
   ]
  },
  {
   "cell_type": "markdown",
   "metadata": {},
   "source": [
    "### Part b)\n",
    "Insert code here to replace the '4' in a with the string \"bar\".\n",
    "After inserting the code, use print to check your work.\n",
    "\n",
    "```python\n",
    "print(\"a is:\", a) # check your work\n",
    "```"
   ]
  },
  {
   "cell_type": "code",
   "execution_count": 7,
   "metadata": {},
   "outputs": [
    {
     "name": "stdout",
     "output_type": "stream",
     "text": [
      "CHECK a is: [1, 2, 3, 'bar', 5]\n"
     ]
    }
   ],
   "source": [
    "a = [1, 2, 3, 4, 5]\n",
    "a[3] = \"bar\"\n",
    "print(\"CHECK a is:\", a) # check your work"
   ]
  },
  {
   "cell_type": "markdown",
   "metadata": {},
   "source": [
    "### Part c)\n",
    "Insert code here to print what you think `print(a[-1])` will print.\n",
    "After inserting the code, use print to check your work.\n",
    "```python\n",
    "print(\"a[-1] is:\", a[-1]) # check your work (don't just write this for your answer!)\n",
    "```"
   ]
  },
  {
   "cell_type": "code",
   "execution_count": 5,
   "metadata": {},
   "outputs": [
    {
     "name": "stdout",
     "output_type": "stream",
     "text": [
      "5\n",
      "CHECK a[-1] is: 5\n"
     ]
    }
   ],
   "source": [
    "print(5)\n",
    "print(\"CHECK a[-1] is:\", a[-1]) # check your work (don't just write this for your answer!)"
   ]
  },
  {
   "cell_type": "markdown",
   "metadata": {},
   "source": [
    "### Part d)\n",
    "Insert the code here to modify `a` SO IT IS `[1, 2, \"hello\", \"world\", 4, 5]`.\n",
    "After inserting the code, use print to check your work.\n",
    "```python\n",
    "print(\"a[-1] is:\", a[-1]) # check your work\n",
    "```"
   ]
  },
  {
   "cell_type": "code",
   "execution_count": 8,
   "metadata": {},
   "outputs": [
    {
     "name": "stdout",
     "output_type": "stream",
     "text": [
      "CHECK a is: [1, 2, 'hello', 'world', 4, 5]\n"
     ]
    }
   ],
   "source": [
    "a = [1, 2, 3, 4, 5]\n",
    "a[2:3] = [\"hello\", \"world\"]\n",
    "print(\"CHECK a is:\", a) # check your work"
   ]
  },
  {
   "cell_type": "markdown",
   "metadata": {},
   "source": [
    "### Part e)\n",
    "Given the list, `b` which is\n",
    "```python\n",
    "b = a\n",
    "b[2] = \"small\"\n",
    "```\n",
    "Insert code here to print what you think `print(a)` will print.\n",
    "After inserting the code, use print to check your work.\n",
    "```python\n",
    "print(\"a[2] is:\", a[2]) # check your work (don't just write this for your answer!)\n",
    "```"
   ]
  },
  {
   "cell_type": "code",
   "execution_count": 9,
   "metadata": {},
   "outputs": [
    {
     "name": "stdout",
     "output_type": "stream",
     "text": [
      "small\n",
      "CHECK a[2] is: small\n"
     ]
    }
   ],
   "source": [
    "b = a\n",
    "b[2] = \"small\"\n",
    "\n",
    "print(\"small\")\n",
    "\n",
    "print(\"CHECK a[2] is:\", a[2]) # check your work (don't just write this for your answer!)"
   ]
  },
  {
   "cell_type": "markdown",
   "metadata": {},
   "source": [
    "### Part f)\n",
    "Given list `c`, which is\n",
    "```python\n",
    "c = [x for x in range(2, 10)] # this is a list comprehension!\n",
    "```\n",
    "Insert code here to print what you think `print(c)` will print.\n",
    "After inserting the code, use print to check your work.\n",
    "```python\n",
    "print(\"c is:\", c) # check your work (don't just write this for your answer!)\n",
    "```"
   ]
  },
  {
   "cell_type": "code",
   "execution_count": 10,
   "metadata": {},
   "outputs": [
    {
     "name": "stdout",
     "output_type": "stream",
     "text": [
      "5\n",
      "CHECK c[3] is: 5\n"
     ]
    }
   ],
   "source": [
    "c = [x for x in range(2, 10)] # this is a list comprehension!\n",
    "\n",
    "print(5)\n",
    "\n",
    "print(\"CHECK c[3] is:\", c[3]) # check your work (don't just write this for your answer!)"
   ]
  },
  {
   "cell_type": "markdown",
   "metadata": {},
   "source": [
    "### Part g)\n",
    "Given list `d`, which is\n",
    "```python\n",
    "d = [6, 5, 4, 3, 2]\n",
    "```\n",
    "Insert code here to use list comprehension to create the following list:\n",
    "```python\n",
    "[7, 6, 5, 4, 3]\n",
    "```\n",
    "by using the list `d` and then print it."
   ]
  },
  {
   "cell_type": "code",
   "execution_count": 12,
   "metadata": {},
   "outputs": [
    {
     "name": "stdout",
     "output_type": "stream",
     "text": [
      "[7, 6, 5, 4, 3]\n"
     ]
    }
   ],
   "source": [
    "d = [6, 5, 4, 3, 2]\n",
    "d = [x+1 for x in d]\n",
    "print(d)"
   ]
  }
 ],
 "metadata": {
  "kernelspec": {
   "display_name": "pyomo",
   "language": "python",
   "name": "python3"
  },
  "language_info": {
   "codemirror_mode": {
    "name": "ipython",
    "version": 3
   },
   "file_extension": ".py",
   "mimetype": "text/x-python",
   "name": "python",
   "nbconvert_exporter": "python",
   "pygments_lexer": "ipython3",
   "version": "3.11.3"
  },
  "orig_nbformat": 4
 },
 "nbformat": 4,
 "nbformat_minor": 2
}
