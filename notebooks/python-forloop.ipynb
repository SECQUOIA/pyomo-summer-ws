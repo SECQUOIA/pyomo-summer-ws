{
 "cells": [
  {
   "cell_type": "markdown",
   "metadata": {},
   "source": [
    "## Exercise Problem\n",
    "\n",
    "Write a for loop that prints the entries of the following list, one at a time:"
   ]
  },
  {
   "cell_type": "code",
   "execution_count": 1,
   "metadata": {},
   "outputs": [
    {
     "name": "stdout",
     "output_type": "stream",
     "text": [
      "Wow,\n",
      "python\n",
      "is\n",
      "really\n",
      "cool.\n"
     ]
    }
   ],
   "source": [
    "words = [\"Wow,\", \"python\", \"is\", \"really\", \"cool.\"]\n",
    "\n",
    "for i in words:\n",
    "        print(i)"
   ]
  },
  {
   "cell_type": "markdown",
   "metadata": {},
   "source": [
    "Write a for loop that computes $2^n$ only using multiplication by $2$."
   ]
  },
  {
   "cell_type": "code",
   "execution_count": null,
   "metadata": {},
   "outputs": [],
   "source": [
    "## Write a for loop that prints the entries of the following list, one at a time:\n",
    "words = [\"Wow,\", \"python\", \"is\", \"really\", \"cool.\"]\n",
    "\n",
    "for i in words:\n",
    "        print(i)\n",
    "\n",
    "## Write a for loop that computes 2^n only using multiplication by 2\n",
    "n = 5\n",
    "val = 2\n",
    "for i in range(0,n-1):\n",
    "\tval = val*2\n",
    "\n",
    "print(val)\n",
    "\n",
    "## Write a for loop that adds 1 to elements in a list and prints their squared value\n",
    "nums = [0, 3, -2, -1]\n",
    "for i in nums:\n",
    "\tprint((i+1)**2)"
   ]
  }
 ],
 "metadata": {
  "kernelspec": {
   "display_name": "pyomo",
   "language": "python",
   "name": "python3"
  },
  "language_info": {
   "codemirror_mode": {
    "name": "ipython",
    "version": 3
   },
   "file_extension": ".py",
   "mimetype": "text/x-python",
   "name": "python",
   "nbconvert_exporter": "python",
   "pygments_lexer": "ipython3",
   "version": "3.11.3"
  },
  "orig_nbformat": 4
 },
 "nbformat": 4,
 "nbformat_minor": 2
}
