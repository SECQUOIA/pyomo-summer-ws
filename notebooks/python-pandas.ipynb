{
 "cells": [
  {
   "cell_type": "markdown",
   "metadata": {},
   "source": [
    "## Exercise Problem - pandas"
   ]
  },
  {
   "cell_type": "code",
   "execution_count": 1,
   "metadata": {},
   "outputs": [],
   "source": [
    "import pandas as pd"
   ]
  },
  {
   "cell_type": "markdown",
   "metadata": {},
   "source": [
    "### Part a)\n",
    "Your colleague wants to build a classifier that will identify types of bears, but is having trouble importing data for her project. \n",
    "Lucikly, you know about pandas. \n",
    "No, not the fluffy black and white things, the python data manipulation package.\n",
    "\n",
    "The file `bears-are-bears.csv` contains a human-generated categorization of several bear specimens obtained by underpaying undergraduate students to collect data. \n",
    "Please import the file and display it to the console to verify that it matches your expectations.\n",
    "The formation of the code to do this is provided for you.\n",
    "\n",
    "```python\n",
    "df = pandas.read_csv(--CODE TO IMPORT HERE--)\n",
    "print(df)\n",
    "```"
   ]
  },
  {
   "cell_type": "code",
   "execution_count": 2,
   "metadata": {},
   "outputs": [
    {
     "name": "stdout",
     "output_type": "stream",
     "text": [
      "         Bear Type  Weight (kg)            Color  Endangered Bear Necessities  \\\n",
      "Tag #                                                                           \n",
      "1       Black bear          280            Black         You    Charmin Ultra   \n",
      "2       Brown bear          700            Brown          No              NaN   \n",
      "3       Polar bear           80            White         Yes              NaN   \n",
      "4      Andean bear          200            Black  Vulnerable              NaN   \n",
      "5       Panda bear          113  Black and white         NaN           Bamboo   \n",
      "6       Sloth bear          100            Black         Yes              NaN   \n",
      "7         Sun bear           50            Black         Yes              NaN   \n",
      "8       Panda bear          123  Black and white         Yes           Bamboo   \n",
      "9       Black bear          287            Brown          No              NaN   \n",
      "10      Black bear          276            Black          No              NaN   \n",
      "\n",
      "                 Speed        Eats  \n",
      "Tag #                               \n",
      "1                 Fast  Everything  \n",
      "2                  NaN      Salmon  \n",
      "3      Faster in water  Not enough  \n",
      "4                  NaN  bromeliads  \n",
      "5                  NaN      Bamboo  \n",
      "6                 Slow     Insects  \n",
      "7                  NaN     Insects  \n",
      "8                  NaN      Bamboo  \n",
      "9                 Fast  Everything  \n",
      "10                Fast  Everything  \n"
     ]
    }
   ],
   "source": [
    "# df = pandas.read_csv('bears-are-bears.csv', index_col=0)\n",
    "# print(df)\n",
    "df = pd.read_csv('/home/albertlee/repos/pyomo-summer-ws/notebooks/exercises/Python/bears-are-bears.csv', index_col=0)\n",
    "print(df)"
   ]
  },
  {
   "cell_type": "markdown",
   "metadata": {},
   "source": [
    "### Part b)\n",
    "Your colleague wants to have an alphabetically sorted unique list of all the bear types. \n",
    "Generate this from the pandas DataFrame."
   ]
  },
  {
   "cell_type": "code",
   "execution_count": 3,
   "metadata": {},
   "outputs": [
    {
     "name": "stdout",
     "output_type": "stream",
     "text": [
      "Sorted bears list:\n",
      "['Andean bear', 'Black bear', 'Brown bear', 'Panda bear', 'Polar bear', 'Sloth bear', 'Sun bear']\n"
     ]
    }
   ],
   "source": [
    "sorted_bears = sorted(df['Bear Type'].unique().tolist())\n",
    "print(\"Sorted bears list:\")\n",
    "print(sorted_bears)"
   ]
  }
 ],
 "metadata": {
  "kernelspec": {
   "display_name": "pyomo",
   "language": "python",
   "name": "python3"
  },
  "language_info": {
   "codemirror_mode": {
    "name": "ipython",
    "version": 3
   },
   "file_extension": ".py",
   "mimetype": "text/x-python",
   "name": "python",
   "nbconvert_exporter": "python",
   "pygments_lexer": "ipython3",
   "version": "3.11.3"
  },
  "orig_nbformat": 4
 },
 "nbformat": 4,
 "nbformat_minor": 2
}
