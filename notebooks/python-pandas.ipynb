{
 "cells": [
  {
   "cell_type": "markdown",
   "metadata": {},
   "source": [
    "## Exercise Problem\n",
    "Your colleague wants to build a classifier that will identify types of bears, but is having trouble importing data for her project. \n",
    "Lucikly, you know about pandas. \n",
    "No, not the fluffy black and white things, the python data manipulation package.\n",
    "\n",
    "The file bears-are-bears.csv contains a human-generated categorization of several bear specimens obtained by underpaying undergraduate students to collect data. \n",
    "Please import the file and display it to the console to verify that it matches your expectations."
   ]
  },
  {
   "cell_type": "code",
   "execution_count": null,
   "metadata": {},
   "outputs": [],
   "source": []
  }
 ],
 "metadata": {
  "language_info": {
   "name": "python"
  },
  "orig_nbformat": 4
 },
 "nbformat": 4,
 "nbformat_minor": 2
}
