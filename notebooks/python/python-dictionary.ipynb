{
 "cells": [
  {
   "attachments": {},
   "cell_type": "markdown",
   "metadata": {},
   "source": [
    "## Exercise Problem - Dictionary\n",
    "Consider the following dictionary\n",
    "\n",
    "```python\n",
    "d = {\"tree\": \"wood\", \"flower\": \"petal\", \"earth\": \"water\", 101: [4, 6, 8]}\n",
    "```"
   ]
  },
  {
   "cell_type": "code",
   "execution_count": 2,
   "metadata": {},
   "outputs": [],
   "source": [
    "d = {\"tree\": \"wood\", \"flower\": \"petal\", \"earth\": \"water\", 101: [4, 6, 8]}"
   ]
  },
  {
   "attachments": {},
   "cell_type": "markdown",
   "metadata": {},
   "source": [
    "### Part a)\n",
    "Replace the value associated with the key \"tree\" from \"wood\" to \"leaves\"."
   ]
  },
  {
   "cell_type": "code",
   "execution_count": 4,
   "metadata": {},
   "outputs": [],
   "source": [
    "# TODO: INSERT CODE HERE TO REPLACE \"wood\" WITH \"leaves\""
   ]
  },
  {
   "cell_type": "code",
   "execution_count": 3,
   "metadata": {},
   "outputs": [],
   "source": [
    "# TODO: INSERT CODE HERE TO REPLACE \"wood\" WITH \"leaves\"\n",
    "d[\"tree\"] = \"leaves\""
   ]
  },
  {
   "attachments": {},
   "cell_type": "markdown",
   "metadata": {},
   "source": [
    "### Part b)\n",
    " Add a new key-value pair \"monty\": \"python\" to the dictionary."
   ]
  },
  {
   "cell_type": "code",
   "execution_count": 6,
   "metadata": {},
   "outputs": [],
   "source": [
    "# TODO: INSERT CODE HERE TO ADD THE PAIR \"monty\": \"python\""
   ]
  },
  {
   "cell_type": "code",
   "execution_count": 7,
   "metadata": {},
   "outputs": [],
   "source": [
    "# TODO: INSERT CODE HERE TO ADD THE PAIR \"monty\": \"python\"\n",
    "d[\"monty\"] = \"python\""
   ]
  },
  {
   "attachments": {},
   "cell_type": "markdown",
   "metadata": {},
   "source": [
    "### Part c)\n",
    "Check if the key \"earth\" exists in the dictionary.\n",
    "If it does, print the value it maps to; otherwise, print a message stating it doesn't exist."
   ]
  },
  {
   "cell_type": "code",
   "execution_count": null,
   "metadata": {},
   "outputs": [],
   "source": [
    "# TODO: INSERT CODE HERE TO FIRST CHECK IF \"earth\" IS A KEY,\n",
    "# AND IF IT IS THEN PRINT THE VALUE IT MAPS TO"
   ]
  },
  {
   "cell_type": "code",
   "execution_count": 4,
   "metadata": {},
   "outputs": [
    {
     "name": "stdout",
     "output_type": "stream",
     "text": [
      "The value of 'earth' is: water\n"
     ]
    }
   ],
   "source": [
    "# TODO: INSERT CODE HERE TO FIRST CHECK IF \"earth\" IS A KEY,\n",
    "# AND IF IT IS THEN PRINT THE VALUE IT MAPS TO\n",
    "if \"earth\" in d:\n",
    "    print(\"The value of 'earth' is:\", d[\"earth\"])\n",
    "else:\n",
    "    print(\"'earth' is not found in the dictionary.\")"
   ]
  },
  {
   "attachments": {},
   "cell_type": "markdown",
   "metadata": {},
   "source": [
    "### Part d)\n",
    "Print all the key-value pairs in the dictionary."
   ]
  },
  {
   "cell_type": "code",
   "execution_count": 9,
   "metadata": {},
   "outputs": [],
   "source": [
    "# TODO: INSERT CODE HERE TO PRINT ALL THE PAIRS IN d"
   ]
  },
  {
   "cell_type": "code",
   "execution_count": 8,
   "metadata": {},
   "outputs": [
    {
     "name": "stdout",
     "output_type": "stream",
     "text": [
      "All key-value pairs:\n",
      "[('tree', 'leaves'), ('flower', 'petal'), ('earth', 'water'), (101, [4, 6, 8]), ('monty', 'python')]\n"
     ]
    }
   ],
   "source": [
    "# TODO: INSERT CODE HERE TO PRINT ALL THE PAIRS IN d\n",
    "print(\"All key-value pairs:\")\n",
    "print(list(d.items()))"
   ]
  },
  {
   "cell_type": "code",
   "execution_count": 6,
   "metadata": {},
   "outputs": [
    {
     "name": "stdout",
     "output_type": "stream",
     "text": [
      "Final dictionary: d = {'tree': 'leaves', 'flower': 'petal', 'earth': 'water', 101: [4, 6, 8], 'monty': 'python'}\n"
     ]
    }
   ],
   "source": [
    "print(\"Final dictionary: d =\", d) # check all your work"
   ]
  }
 ],
 "metadata": {
  "kernelspec": {
   "display_name": "Python 3",
   "language": "python",
   "name": "python3"
  },
  "language_info": {
   "codemirror_mode": {
    "name": "ipython",
    "version": 3
   },
   "file_extension": ".py",
   "mimetype": "text/x-python",
   "name": "python",
   "nbconvert_exporter": "python",
   "pygments_lexer": "ipython3",
   "version": "3.11.3"
  },
  "orig_nbformat": 4
 },
 "nbformat": 4,
 "nbformat_minor": 2
}
