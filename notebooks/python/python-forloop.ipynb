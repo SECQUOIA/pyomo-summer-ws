{
 "cells": [
  {
   "cell_type": "markdown",
   "metadata": {},
   "source": [
    "## Exercise Problem - For Loops\n",
    "### Part a)\n",
    "Given a list of  words,\n",
    "\n",
    "```python\n",
    "words = [\"Wow,\", \"python\", \"is\", \"really\", \"cool.\"]\n",
    "```\n",
    "Write a for loop that prints the entries of the following list, one at a time:"
   ]
  },
  {
   "cell_type": "code",
   "execution_count": 1,
   "metadata": {},
   "outputs": [],
   "source": [
    "words = [\"Wow,\", \"python\", \"is\", \"really\", \"cool.\"]\n",
    "\n",
    "##TODO"
   ]
  },
  {
   "cell_type": "code",
   "execution_count": 2,
   "metadata": {},
   "outputs": [
    {
     "name": "stdout",
     "output_type": "stream",
     "text": [
      "Wow,\n",
      "python\n",
      "is\n",
      "really\n",
      "cool.\n"
     ]
    }
   ],
   "source": [
    "words = [\"Wow,\", \"python\", \"is\", \"really\", \"cool.\"]\n",
    "\n",
    "##TODO\n",
    "for i in words:\n",
    "        print(i)"
   ]
  },
  {
   "cell_type": "markdown",
   "metadata": {},
   "source": [
    "### Part b)\n",
    "Write a for loop that computes $2^n$ only using multiplication by $2$.\n",
    "Starting with\n",
    "    \n",
    "```python\n",
    "n = 5.\n",
    "```"
   ]
  },
  {
   "cell_type": "code",
   "execution_count": 3,
   "metadata": {},
   "outputs": [],
   "source": [
    "n = 5\n",
    "\n",
    "##TODO"
   ]
  },
  {
   "cell_type": "code",
   "execution_count": 4,
   "metadata": {},
   "outputs": [
    {
     "name": "stdout",
     "output_type": "stream",
     "text": [
      "32\n"
     ]
    }
   ],
   "source": [
    "n = 5\n",
    "\n",
    "##TODO\n",
    "val = 2\n",
    "for i in range(0,n-1):\n",
    "\tval = val*2\n",
    "\t\n",
    "print(val)"
   ]
  },
  {
   "cell_type": "markdown",
   "metadata": {},
   "source": [
    "### Part c)\n",
    "Write a for loop that adds 1 to elements in a list and prints their squared value\n",
    "    \n",
    "```python\n",
    "nums = [0, 3, -2, -1]\n",
    "```"
   ]
  },
  {
   "cell_type": "code",
   "execution_count": 4,
   "metadata": {},
   "outputs": [
    {
     "name": "stdout",
     "output_type": "stream",
     "text": [
      "1\n",
      "16\n",
      "1\n",
      "0\n"
     ]
    }
   ],
   "source": [
    "nums = [0, 3, -2, -1]\n",
    "for i in nums:\n",
    "\tprint((i+1)**2)"
   ]
  }
 ],
 "metadata": {
  "kernelspec": {
   "display_name": "pyomo",
   "language": "python",
   "name": "python3"
  },
  "language_info": {
   "codemirror_mode": {
    "name": "ipython",
    "version": 3
   },
   "file_extension": ".py",
   "mimetype": "text/x-python",
   "name": "python",
   "nbconvert_exporter": "python",
   "pygments_lexer": "ipython3",
   "version": "3.11.3"
  },
  "orig_nbformat": 4
 },
 "nbformat": 4,
 "nbformat_minor": 2
}
